{
 "cells": [
  {
   "cell_type": "markdown",
   "id": "db774fa6",
   "metadata": {},
   "source": [
    "Q1. What is the KNN algorithm?"
   ]
  },
  {
   "cell_type": "markdown",
   "id": "04e23c62",
   "metadata": {},
   "source": [
    "KNN, or k-Nearest Neighbors, is a simple and versatile machine learning algorithm used for both classification and regression tasks. It is a type of instance-based learning where the algorithm makes predictions based on the majority class (for classification) or the average of k-nearest neighbors' values (for regression)."
   ]
  },
  {
   "cell_type": "markdown",
   "id": "14ab0e79",
   "metadata": {},
   "source": [
    "Q2. How do you choose the value of K in KNN?"
   ]
  },
  {
   "cell_type": "markdown",
   "id": "4cc2ab0b",
   "metadata": {},
   "source": [
    "The choice of the value for K in KNN is crucial. A small value of K can make the model sensitive to noise, while a large value may lead to over-smoothing. The optimal value of K is often determined through techniques like cross-validation, where different values are tested, and the one that gives the best performance is selected."
   ]
  },
  {
   "cell_type": "markdown",
   "id": "90987fa8",
   "metadata": {},
   "source": [
    "Q3. What is the difference between KNN classifier and KNN regressor?"
   ]
  },
  {
   "cell_type": "markdown",
   "id": "71dc250b",
   "metadata": {},
   "source": [
    "KNN Classifier: It predicts the class of a new data point based on the majority class of its k-nearest neighbors.\n",
    "\n",
    "KNN Regressor: It predicts the numerical value for a new data point by averaging the values of its k-nearest neighbors."
   ]
  },
  {
   "cell_type": "markdown",
   "id": "c8c21b31",
   "metadata": {},
   "source": [
    "Q4. How do you measure the performance of KNN?"
   ]
  },
  {
   "cell_type": "markdown",
   "id": "f0189fcb",
   "metadata": {},
   "source": [
    "Performance in KNN is typically measured using metrics such as accuracy, precision, recall, F1-score for classification tasks, and metrics like Mean Squared Error (MSE) or R-squared for regression tasks."
   ]
  },
  {
   "cell_type": "markdown",
   "id": "22bb5773",
   "metadata": {},
   "source": [
    "Q5. What is the curse of dimensionality in KNN?"
   ]
  },
  {
   "cell_type": "markdown",
   "id": "fc5a2f11",
   "metadata": {},
   "source": [
    "The curse of dimensionality in KNN refers to the deterioration of the algorithm's performance as the number of features or dimensions increases. In high-dimensional spaces, the concept of distance becomes less meaningful, as points become more spread out and equidistant, making it challenging to identify meaningful neighbors."
   ]
  },
  {
   "cell_type": "markdown",
   "id": "d21a8463",
   "metadata": {},
   "source": [
    "Q6. How do you handle missing values in KNN?"
   ]
  },
  {
   "cell_type": "markdown",
   "id": "e5251997",
   "metadata": {},
   "source": [
    "Missing values can be handled in KNN by either imputing them with the mean, median, or mode of the feature, or by using more advanced imputation techniques before applying the KNN algorithm."
   ]
  },
  {
   "cell_type": "markdown",
   "id": "b86e3890",
   "metadata": {},
   "source": [
    "Q7. Compare and contrast the performance of the KNN classifier and regressor. Which one is better for which type of problem?"
   ]
  },
  {
   "cell_type": "markdown",
   "id": "945482ac",
   "metadata": {},
   "source": [
    "* KNN Classifier is suitable for problems where the output is categorical, such as image recognition or spam detection.\n",
    "* KNN Regressor is suitable for problems where the output is numerical, like predicting house prices or temperature."
   ]
  },
  {
   "cell_type": "markdown",
   "id": "5bdaefb4",
   "metadata": {},
   "source": [
    "Q8. What are the strengths and weaknesses of the KNN algorithm for classification and regression tasks, and how can these be addressed?"
   ]
  },
  {
   "cell_type": "markdown",
   "id": "5a4c62a6",
   "metadata": {},
   "source": [
    "Strengths: Simple and effective, doesn't assume underlying distribution.\n",
    "Weaknesses: Sensitive to irrelevant or redundant features, computationally expensive for large datasets. These can be addressed by feature selection or dimensionality reduction techniques, and by using efficient data structures like KD-trees for optimization."
   ]
  },
  {
   "cell_type": "markdown",
   "id": "e8dc6b27",
   "metadata": {},
   "source": [
    "Q9. What is the difference between Euclidean distance and Manhattan distance in KNN?"
   ]
  },
  {
   "cell_type": "markdown",
   "id": "40c9c45a",
   "metadata": {},
   "source": [
    "Euclidean Distance: Measures the straight-line distance between two points in Euclidean space.\n",
    "\n",
    "Manhattan Distance: Also known as L1 norm or taxicab distance, it measures the distance as the sum of the absolute differences between the coordinates of the points. It is more appropriate in situations where movement can only occur along grid lines."
   ]
  },
  {
   "cell_type": "markdown",
   "id": "748396ee",
   "metadata": {},
   "source": [
    "Q10. What is the role of feature scaling in KNN?"
   ]
  },
  {
   "cell_type": "markdown",
   "id": "19d0f237",
   "metadata": {},
   "source": [
    "Feature scaling is important in KNN because the algorithm relies on distances between data points. If the features are on different scales, a feature with larger values may dominate the distance calculation, leading to biased results. Standardizing or normalizing features to a similar scale helps in ensuring that all features contribute equally to the distance computations."
   ]
  },
  {
   "cell_type": "code",
   "execution_count": null,
   "id": "53541a46",
   "metadata": {},
   "outputs": [],
   "source": []
  }
 ],
 "metadata": {
  "kernelspec": {
   "display_name": "Python 3 (ipykernel)",
   "language": "python",
   "name": "python3"
  },
  "language_info": {
   "codemirror_mode": {
    "name": "ipython",
    "version": 3
   },
   "file_extension": ".py",
   "mimetype": "text/x-python",
   "name": "python",
   "nbconvert_exporter": "python",
   "pygments_lexer": "ipython3",
   "version": "3.10.9"
  }
 },
 "nbformat": 4,
 "nbformat_minor": 5
}
